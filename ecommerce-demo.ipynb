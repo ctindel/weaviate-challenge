{
 "cells": [
  {
   "cell_type": "code",
   "execution_count": null,
   "metadata": {},
   "outputs": [],
   "source": [
    "%pip install weaviate-client"
   ]
  },
  {
   "cell_type": "markdown",
   "metadata": {},
   "source": [
    "# Connect to Weaviate Local Instance"
   ]
  },
  {
   "cell_type": "code",
   "execution_count": 105,
   "metadata": {},
   "outputs": [
    {
     "name": "stdout",
     "output_type": "stream",
     "text": [
      "Weaviate Client is Ready:  True\n",
      "Product: 497683\n",
      "Review: 1087778\n"
     ]
    },
    {
     "name": "stderr",
     "output_type": "stream",
     "text": [
      "/Users/ctindel/src/weaviate-demo/.venv/lib/python3.12/site-packages/weaviate/warnings.py:303: ResourceWarning: Con004: The connection to Weaviate was not closed properly. This can lead to memory leaks.\n",
      "            Please make sure to close the connection using `client.close()`.\n",
      "  warnings.warn(\n"
     ]
    }
   ],
   "source": [
    "import weaviate\n",
    "import weaviate.classes.config as wc\n",
    "import weaviate.classes.query as wq\n",
    "from weaviate.classes.init import AdditionalConfig, Timeout\n",
    "import os\n",
    "\n",
    "client = weaviate.connect_to_local(\n",
    "    # comment the line above and uncomment the one below if using docker\n",
    "    #url=\"http://localhost:8080\",\n",
    "    headers={\n",
    "        \"X-OpenAi-Api-Key\": \"NOT_NEEDED_FOR_LM_STUDIO\",\n",
    "    },\n",
    "    additional_config=AdditionalConfig(\n",
    "        timeout=Timeout(init=30, query=60, insert=120)  # Values in seconds\n",
    "    )\n",
    ")\n",
    "\n",
    "print(\"Weaviate Client is Ready: \", client.is_ready())\n",
    "products = client.collections.get(\"product\")\n",
    "reviews = client.collections.get(\"review\")\n",
    "\n",
    "def print_product(o):\n",
    "    print(\"Product Title: \" + o.properties[\"title\"])\n",
    "    print(\"  Artist: \" + o.properties[\"brand\"])\n",
    "    print(\"  ASIN: \" + o.properties[\"asin\"])\n",
    "    print(\"  Categories: \")\n",
    "    for c in o.properties[\"category\"]:\n",
    "        print(\"    \" + c)\n",
    "    print(\"  Price: \" + o.properties[\"price\"])\n",
    "    print(\"  Description: \")\n",
    "    for d in o.properties[\"description\"]:\n",
    "        print(\"    \" + d)\n",
    "\n",
    "def print_products(response_objects):\n",
    "    seen_asin = []\n",
    "\n",
    "    for o in response_objects:\n",
    "        if o.properties[\"asin\"] in seen_asin:\n",
    "            continue\n",
    "        seen_asin.append(o.properties[\"asin\"])\n",
    "        print_product(o)\n",
    "        #print(f\"\\tDistance to query: {o.metadata.distance:.3f}\")\n",
    "\n",
    "def print_review(o):\n",
    "    print(f\"    Review Score: \" + str(o.properties[\"overall\"]))\n",
    "    print(f\"    Review Date: \" + o.properties[\"unixReviewDate\"].strftime(\"%Y-%m-%d\"))\n",
    "    print(f\"    Reviewer Name: \" + o.properties[\"reviewerName\"])\n",
    "    print(f\"    Review Text: \" + o.properties[\"reviewText\"].replace(\"\\n\", \"\").replace(\"\\r\", \"\"))\n",
    "\n",
    "def print_reviews(response_objects):\n",
    "    count = 1\n",
    "    seen_asin = []\n",
    "    for o in response_objects:\n",
    "        if o.properties[\"asin\"] in seen_asin:\n",
    "            continue\n",
    "        seen_asin.append(o.properties[\"asin\"])\n",
    "        print(f\"  Review {count}:\")\n",
    "        print_review(o)\n",
    "        count += 1\n",
    "\n",
    "collections = client.collections.list_all()\n",
    "# Print all collection names\n",
    "for name in collections:\n",
    "    collection = client.collections.get(name)\n",
    "    aggregation = collection.aggregate.over_all(total_count=True)\n",
    "    print(f\"{name}: {aggregation.total_count}\")\n"
   ]
  },
  {
   "cell_type": "markdown",
   "metadata": {},
   "source": [
    "## Keyword Search"
   ]
  },
  {
   "cell_type": "code",
   "execution_count": null,
   "metadata": {},
   "outputs": [],
   "source": [
    "def keyword_query(keyword):\n",
    "    response = products.query.bm25(\n",
    "        query=keyword, limit=5, return_metadata=wq.MetadataQuery(score=True)\n",
    "    )\n",
    "\n",
    "    print_products(response.objects)\n",
    "\n",
    "keyword_query(\"charlie parker\")"
   ]
  },
  {
   "cell_type": "markdown",
   "metadata": {},
   "source": [
    "## Vector/Semantic Search"
   ]
  },
  {
   "cell_type": "code",
   "execution_count": null,
   "metadata": {},
   "outputs": [],
   "source": [
    "def text_query(search_string):\n",
    "    response = products.query.near_text(\n",
    "        query=search_string,\n",
    "        limit=5,\n",
    "        return_metadata=wq.MetadataQuery(distance=True),\n",
    "    )\n",
    "\n",
    "    print_products(response.objects)\n",
    "\n",
    "text_query(\"charlie parker\")"
   ]
  },
  {
   "cell_type": "markdown",
   "metadata": {},
   "source": [
    "## Semantic Search with Reviews"
   ]
  },
  {
   "cell_type": "code",
   "execution_count": null,
   "metadata": {},
   "outputs": [],
   "source": [
    "def text_query_with_reviews(search_string):\n",
    "    response = products.query.near_text(\n",
    "        query=search_string,\n",
    "        limit=5,\n",
    "        return_metadata=wq.MetadataQuery(distance=True),\n",
    "    )\n",
    "\n",
    "    seen_asin = []\n",
    "    for o in response.objects:\n",
    "        if o.properties[\"asin\"] in seen_asin:\n",
    "            continue\n",
    "        seen_asin.append(o.properties[\"asin\"])\n",
    "        print_product(o)\n",
    "        review_response = reviews.query.bm25(\n",
    "            query=o.properties[\"asin\"],\n",
    "            filters=wq.Filter.by_property(\"asin\").equal(o.properties[\"asin\"]),\n",
    "            limit=1\n",
    "        )\n",
    "        print_reviews(review_response.objects)\n",
    "        print(\"\\n\")\n",
    "\n",
    "text_query_with_reviews(\"dire straits live\")"
   ]
  },
  {
   "cell_type": "markdown",
   "metadata": {},
   "source": [
    "## Semantic Search with Review Text Translated"
   ]
  },
  {
   "cell_type": "code",
   "execution_count": 111,
   "metadata": {},
   "outputs": [
    {
     "name": "stdout",
     "output_type": "stream",
     "text": [
      "Product Title: Sultans of Swing Live in Germany Set\n",
      "  Artist: Dire Straits\n",
      "  ASIN: B001MYIPY6\n",
      "  Categories: \n",
      "    CDs & Vinyl\n",
      "    Rock\n",
      "    Blues Rock\n",
      "  Price: \n",
      "  Description: \n",
      "    2009 release containing a classic early live show from Mark Knopfler and Dire Straits, performed in Germany in 1979. This release captures the original band in their first brush of international success - Mark and Dave Knopfler on lead and rhythm guitars, John Illsley on bass, Pick Withers on drums. For all its newfound success, Dire Straits here puts on a carefully polished, musically serious show, full of the nuance and intelligence that characterized the band s memorable career in Rock. A very young Mark Knopfler is of course front and center, with his trademark Dylan-influenced vocals, seductive guitar playing, and dark and thoughtful songs. Those songs include beloved numbers from their breakout self-titled debut album ('Sultans Of Swing', Down To The Waterline, Six Blade Knife and others) as well as a batch of tracks from their forthcoming sophomore album including Lady Writer and Once Upon A Time In The West. 16 tracks. Immortal.\n",
      "  Review 1:\n",
      "    Review Score: 5.0\n",
      "    Review Date: 2013-06-13\n",
      "    Reviewer Name: Angmar\n",
      "    Review Text: If you like live performances, this is a good one to pick up.  Have listened to this many times all ready.\n",
      "    Translated Review: Als je live optredens leuk vindt, dan is dit een goede keuze om op te pakken. Ik heb al veelvuldig naar deze muziek geluisterd.Translation:If you like live performances, then this is a good one to pick up. I have already listened to this music many times.\n",
      "\n",
      "\n",
      "Product Title: On the Night - Live\n",
      "  Artist: Dire Straits\n",
      "  ASIN: B000002MJR\n",
      "  Categories: \n",
      "    CDs & Vinyl\n",
      "    Classic Rock\n",
      "    Album-Oriented Rock (AOR)\n",
      "  Price: $8.48\n",
      "  Description: \n",
      "    Dire Straits's first live release in a decade was recorded on the band's <On Every Street> tour and includes \\Romeo and Juliet\n",
      "  Review 1:\n",
      "    Review Score: 4.0\n",
      "    Review Date: 2011-10-20\n",
      "    Reviewer Name: J. Thompson\n",
      "    Review Text: This live album comes from 1992 and features 10 tracks over 75 minutes.Calling Elvis kicks off, not far ahead there's Heavy Fuel, On Every Street and Money For Nothing, these are not my favourites.Still they are well presented, then there are the fantastic songs Romeo And Juliet, Private Investigations, Your Latest Trick and Brothers In Arms.All together a good album, although maybe some of the songs lacked the high tempo of the studio recordings.\n",
      "    Translated Review: Dit livealbum dateert uit 1992 en bevat 10 tracks over 75 minuten.Calling Elvis begint het, niet verderop volgt Heavy Fuel, On Every Street en Money For Nothing, deze zijn niet mijn favorieten.Toch worden ze goed gepresenteerd, vervolgens komen de fantastische nummers Romeo And Juliet, Private Investigations, Your Latest Trick en Brothers In Arms.Alles samen een goede album, alhoewel misschien dat sommige nummers het hoge tempo van de studio-opnamen misten.\n",
      "\n",
      "\n"
     ]
    }
   ],
   "source": [
    "LANGUAGE = \"dutch\"\n",
    "\n",
    "def text_query_with_reviews(search_string):\n",
    "    response = products.query.near_text(\n",
    "        query=search_string,\n",
    "        limit=2,\n",
    "        return_metadata=wq.MetadataQuery(distance=True),\n",
    "        return_properties=[\"title\", \"brand\", \"asin\", \"category\", \"price\", \"description\"],\n",
    "    )\n",
    "\n",
    "    seen_product_asin = []\n",
    "    for o in response.objects:\n",
    "        if o.properties[\"asin\"] in seen_product_asin:\n",
    "            continue\n",
    "        seen_product_asin.append(o.properties[\"asin\"])\n",
    "        print_product(o)\n",
    "        review_response = reviews.generate.bm25(\n",
    "            query=o.properties[\"asin\"],\n",
    "            filters=wq.Filter.by_property(\"asin\").equal(o.properties[\"asin\"]),\n",
    "            limit=1,\n",
    "            single_prompt=\"Translate this into \" + LANGUAGE + \": {reviewText}\"\n",
    "        )\n",
    "        review_count = 1\n",
    "        seen_review_asin = []\n",
    "        for o in review_response.objects:\n",
    "            if o.properties[\"asin\"] in seen_review_asin:\n",
    "                continue\n",
    "            seen_review_asin.append(o.properties[\"asin\"])\n",
    "            print(f\"  Review {review_count}:\")\n",
    "            print_review(o)\n",
    "            print(\"    Translated Review: \" + o.generated.replace(\"\\n\", \"\").replace(\"\\r\", \"\"))\n",
    "            review_count += 1\n",
    "        print(\"\\n\")\n",
    "\n",
    "text_query_with_reviews(\"dire straits live\")"
   ]
  }
 ],
 "metadata": {
  "kernelspec": {
   "display_name": "venv",
   "language": "python",
   "name": "python3"
  },
  "language_info": {
   "codemirror_mode": {
    "name": "ipython",
    "version": 3
   },
   "file_extension": ".py",
   "mimetype": "text/x-python",
   "name": "python",
   "nbconvert_exporter": "python",
   "pygments_lexer": "ipython3",
   "version": "3.12.4"
  }
 },
 "nbformat": 4,
 "nbformat_minor": 2
}
